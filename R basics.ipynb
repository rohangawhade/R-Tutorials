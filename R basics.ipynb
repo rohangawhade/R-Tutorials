{
 "cells": [
  {
   "cell_type": "code",
   "execution_count": 1,
   "metadata": {},
   "outputs": [
    {
     "data": {
      "text/plain": [
       "R version 3.6.1 (2019-07-05)\n",
       "Platform: x86_64-w64-mingw32/x64 (64-bit)\n",
       "Running under: Windows 10 x64 (build 19041)\n",
       "\n",
       "Matrix products: default\n",
       "\n",
       "locale:\n",
       "[1] LC_COLLATE=English_India.1252  LC_CTYPE=English_India.1252   \n",
       "[3] LC_MONETARY=English_India.1252 LC_NUMERIC=C                  \n",
       "[5] LC_TIME=English_India.1252    \n",
       "\n",
       "attached base packages:\n",
       "[1] stats     graphics  grDevices utils     datasets  methods   base     \n",
       "\n",
       "loaded via a namespace (and not attached):\n",
       " [1] compiler_3.6.1  IRdisplay_0.7.0 pbdZMQ_0.3-3    tools_3.6.1    \n",
       " [5] htmltools_0.3.6 base64enc_0.1-3 crayon_1.3.4    Rcpp_1.0.1     \n",
       " [9] uuid_0.1-2      IRkernel_0.8.15 jsonlite_1.6    digest_0.6.18  \n",
       "[13] repr_0.19.2     evaluate_0.13  "
      ]
     },
     "metadata": {},
     "output_type": "display_data"
    }
   ],
   "source": [
    "sessionInfo()"
   ]
  },
  {
   "cell_type": "markdown",
   "metadata": {},
   "source": [
    "# Datatypes and Structures in R\n",
    "- vector\n",
    "- list\n",
    "- array\n",
    "- factor\n",
    "- complex\n",
    "- data frame\n",
    "- matrix\n",
    "- date/time\n",
    "- operators"
   ]
  },
  {
   "cell_type": "markdown",
   "metadata": {},
   "source": [
    "##  1. Vector"
   ]
  },
  {
   "cell_type": "code",
   "execution_count": 2,
   "metadata": {},
   "outputs": [],
   "source": [
    "v1 <- c(1,2,3,4)"
   ]
  },
  {
   "cell_type": "code",
   "execution_count": 3,
   "metadata": {},
   "outputs": [
    {
     "data": {
      "text/html": [
       "'numeric'"
      ],
      "text/latex": [
       "'numeric'"
      ],
      "text/markdown": [
       "'numeric'"
      ],
      "text/plain": [
       "[1] \"numeric\""
      ]
     },
     "metadata": {},
     "output_type": "display_data"
    }
   ],
   "source": [
    "class(v1) # 'numeric'"
   ]
  },
  {
   "cell_type": "code",
   "execution_count": 4,
   "metadata": {},
   "outputs": [
    {
     "data": {
      "text/html": [
       "TRUE"
      ],
      "text/latex": [
       "TRUE"
      ],
      "text/markdown": [
       "TRUE"
      ],
      "text/plain": [
       "[1] TRUE"
      ]
     },
     "metadata": {},
     "output_type": "display_data"
    }
   ],
   "source": [
    "is.vector(v1) # TRUE"
   ]
  },
  {
   "cell_type": "code",
   "execution_count": 5,
   "metadata": {},
   "outputs": [],
   "source": [
    "# if there exists more than one type of data in a vector, all the data are converted into the lowest type of data present.\n",
    "# for example, here the vector 'v2' contains 'numeric' and 'character' so all the data will be converted into 'character'.\n",
    "v2 <- c(1,2,3,'a','b')"
   ]
  },
  {
   "cell_type": "code",
   "execution_count": 6,
   "metadata": {},
   "outputs": [
    {
     "data": {
      "text/html": [
       "<ol class=list-inline>\n",
       "\t<li>'1'</li>\n",
       "\t<li>'2'</li>\n",
       "\t<li>'3'</li>\n",
       "\t<li>'a'</li>\n",
       "\t<li>'b'</li>\n",
       "</ol>\n"
      ],
      "text/latex": [
       "\\begin{enumerate*}\n",
       "\\item '1'\n",
       "\\item '2'\n",
       "\\item '3'\n",
       "\\item 'a'\n",
       "\\item 'b'\n",
       "\\end{enumerate*}\n"
      ],
      "text/markdown": [
       "1. '1'\n",
       "2. '2'\n",
       "3. '3'\n",
       "4. 'a'\n",
       "5. 'b'\n",
       "\n",
       "\n"
      ],
      "text/plain": [
       "[1] \"1\" \"2\" \"3\" \"a\" \"b\""
      ]
     },
     "metadata": {},
     "output_type": "display_data"
    }
   ],
   "source": [
    "v2"
   ]
  },
  {
   "cell_type": "code",
   "execution_count": 7,
   "metadata": {},
   "outputs": [
    {
     "data": {
      "text/html": [
       "'character'"
      ],
      "text/latex": [
       "'character'"
      ],
      "text/markdown": [
       "'character'"
      ],
      "text/plain": [
       "[1] \"character\""
      ]
     },
     "metadata": {},
     "output_type": "display_data"
    }
   ],
   "source": [
    "class(v2)"
   ]
  },
  {
   "cell_type": "code",
   "execution_count": 8,
   "metadata": {},
   "outputs": [
    {
     "data": {
      "text/html": [
       "TRUE"
      ],
      "text/latex": [
       "TRUE"
      ],
      "text/markdown": [
       "TRUE"
      ],
      "text/plain": [
       "[1] TRUE"
      ]
     },
     "metadata": {},
     "output_type": "display_data"
    }
   ],
   "source": [
    "is.vector(v2)"
   ]
  },
  {
   "cell_type": "code",
   "execution_count": 9,
   "metadata": {},
   "outputs": [],
   "source": [
    "sales <- c(90000, 80000, 84000, 69000, 73000, 85000, 79000)"
   ]
  },
  {
   "cell_type": "code",
   "execution_count": 10,
   "metadata": {},
   "outputs": [
    {
     "data": {
      "text/html": [
       "<ol class=list-inline>\n",
       "\t<li>90000</li>\n",
       "\t<li>80000</li>\n",
       "\t<li>84000</li>\n",
       "\t<li>69000</li>\n",
       "\t<li>73000</li>\n",
       "\t<li>85000</li>\n",
       "\t<li>79000</li>\n",
       "</ol>\n"
      ],
      "text/latex": [
       "\\begin{enumerate*}\n",
       "\\item 90000\n",
       "\\item 80000\n",
       "\\item 84000\n",
       "\\item 69000\n",
       "\\item 73000\n",
       "\\item 85000\n",
       "\\item 79000\n",
       "\\end{enumerate*}\n"
      ],
      "text/markdown": [
       "1. 90000\n",
       "2. 80000\n",
       "3. 84000\n",
       "4. 69000\n",
       "5. 73000\n",
       "6. 85000\n",
       "7. 79000\n",
       "\n",
       "\n"
      ],
      "text/plain": [
       "[1] 90000 80000 84000 69000 73000 85000 79000"
      ]
     },
     "metadata": {},
     "output_type": "display_data"
    }
   ],
   "source": [
    "sales"
   ]
  },
  {
   "cell_type": "code",
   "execution_count": 11,
   "metadata": {},
   "outputs": [],
   "source": [
    "names(sales)<-c('Mon', 'Tue', 'Wed', 'Thur', 'Fri', 'Sat', 'Sun')"
   ]
  },
  {
   "cell_type": "code",
   "execution_count": 12,
   "metadata": {},
   "outputs": [
    {
     "data": {
      "text/html": [
       "<dl class=dl-horizontal>\n",
       "\t<dt>Mon</dt>\n",
       "\t\t<dd>90000</dd>\n",
       "\t<dt>Tue</dt>\n",
       "\t\t<dd>80000</dd>\n",
       "\t<dt>Wed</dt>\n",
       "\t\t<dd>84000</dd>\n",
       "\t<dt>Thur</dt>\n",
       "\t\t<dd>69000</dd>\n",
       "\t<dt>Fri</dt>\n",
       "\t\t<dd>73000</dd>\n",
       "\t<dt>Sat</dt>\n",
       "\t\t<dd>85000</dd>\n",
       "\t<dt>Sun</dt>\n",
       "\t\t<dd>79000</dd>\n",
       "</dl>\n"
      ],
      "text/latex": [
       "\\begin{description*}\n",
       "\\item[Mon] 90000\n",
       "\\item[Tue] 80000\n",
       "\\item[Wed] 84000\n",
       "\\item[Thur] 69000\n",
       "\\item[Fri] 73000\n",
       "\\item[Sat] 85000\n",
       "\\item[Sun] 79000\n",
       "\\end{description*}\n"
      ],
      "text/markdown": [
       "Mon\n",
       ":   90000Tue\n",
       ":   80000Wed\n",
       ":   84000Thur\n",
       ":   69000Fri\n",
       ":   73000Sat\n",
       ":   85000Sun\n",
       ":   79000\n",
       "\n"
      ],
      "text/plain": [
       "  Mon   Tue   Wed  Thur   Fri   Sat   Sun \n",
       "90000 80000 84000 69000 73000 85000 79000 "
      ]
     },
     "metadata": {},
     "output_type": "display_data"
    }
   ],
   "source": [
    "sales"
   ]
  },
  {
   "cell_type": "markdown",
   "metadata": {},
   "source": [
    "## 2. List"
   ]
  },
  {
   "cell_type": "code",
   "execution_count": 13,
   "metadata": {},
   "outputs": [],
   "source": [
    "l <- list(c(1,2,3),c(4,5,6))"
   ]
  },
  {
   "cell_type": "code",
   "execution_count": 14,
   "metadata": {},
   "outputs": [
    {
     "data": {
      "text/html": [
       "<ol>\n",
       "\t<li><ol class=list-inline>\n",
       "\t<li>1</li>\n",
       "\t<li>2</li>\n",
       "\t<li>3</li>\n",
       "</ol>\n",
       "</li>\n",
       "\t<li><ol class=list-inline>\n",
       "\t<li>4</li>\n",
       "\t<li>5</li>\n",
       "\t<li>6</li>\n",
       "</ol>\n",
       "</li>\n",
       "</ol>\n"
      ],
      "text/latex": [
       "\\begin{enumerate}\n",
       "\\item \\begin{enumerate*}\n",
       "\\item 1\n",
       "\\item 2\n",
       "\\item 3\n",
       "\\end{enumerate*}\n",
       "\n",
       "\\item \\begin{enumerate*}\n",
       "\\item 4\n",
       "\\item 5\n",
       "\\item 6\n",
       "\\end{enumerate*}\n",
       "\n",
       "\\end{enumerate}\n"
      ],
      "text/markdown": [
       "1. 1. 1\n",
       "2. 2\n",
       "3. 3\n",
       "\n",
       "\n",
       "\n",
       "2. 1. 4\n",
       "2. 5\n",
       "3. 6\n",
       "\n",
       "\n",
       "\n",
       "\n",
       "\n"
      ],
      "text/plain": [
       "[[1]]\n",
       "[1] 1 2 3\n",
       "\n",
       "[[2]]\n",
       "[1] 4 5 6\n"
      ]
     },
     "metadata": {},
     "output_type": "display_data"
    }
   ],
   "source": [
    "l"
   ]
  },
  {
   "cell_type": "code",
   "execution_count": 15,
   "metadata": {},
   "outputs": [
    {
     "data": {
      "text/html": [
       "'list'"
      ],
      "text/latex": [
       "'list'"
      ],
      "text/markdown": [
       "'list'"
      ],
      "text/plain": [
       "[1] \"list\""
      ]
     },
     "metadata": {},
     "output_type": "display_data"
    }
   ],
   "source": [
    "class(l) # 'list'"
   ]
  },
  {
   "cell_type": "code",
   "execution_count": 16,
   "metadata": {},
   "outputs": [],
   "source": [
    "l2<-list(a=c('A','B','C'), b=c(4,5,6))"
   ]
  },
  {
   "cell_type": "code",
   "execution_count": 17,
   "metadata": {},
   "outputs": [
    {
     "data": {
      "text/html": [
       "<dl>\n",
       "\t<dt>$a</dt>\n",
       "\t\t<dd><ol class=list-inline>\n",
       "\t<li>'A'</li>\n",
       "\t<li>'B'</li>\n",
       "\t<li>'C'</li>\n",
       "</ol>\n",
       "</dd>\n",
       "\t<dt>$b</dt>\n",
       "\t\t<dd><ol class=list-inline>\n",
       "\t<li>4</li>\n",
       "\t<li>5</li>\n",
       "\t<li>6</li>\n",
       "</ol>\n",
       "</dd>\n",
       "</dl>\n"
      ],
      "text/latex": [
       "\\begin{description}\n",
       "\\item[\\$a] \\begin{enumerate*}\n",
       "\\item 'A'\n",
       "\\item 'B'\n",
       "\\item 'C'\n",
       "\\end{enumerate*}\n",
       "\n",
       "\\item[\\$b] \\begin{enumerate*}\n",
       "\\item 4\n",
       "\\item 5\n",
       "\\item 6\n",
       "\\end{enumerate*}\n",
       "\n",
       "\\end{description}\n"
      ],
      "text/markdown": [
       "$a\n",
       ":   1. 'A'\n",
       "2. 'B'\n",
       "3. 'C'\n",
       "\n",
       "\n",
       "\n",
       "$b\n",
       ":   1. 4\n",
       "2. 5\n",
       "3. 6\n",
       "\n",
       "\n",
       "\n",
       "\n",
       "\n"
      ],
      "text/plain": [
       "$a\n",
       "[1] \"A\" \"B\" \"C\"\n",
       "\n",
       "$b\n",
       "[1] 4 5 6\n"
      ]
     },
     "metadata": {},
     "output_type": "display_data"
    }
   ],
   "source": [
    "l2"
   ]
  },
  {
   "cell_type": "code",
   "execution_count": 18,
   "metadata": {},
   "outputs": [
    {
     "data": {
      "text/html": [
       "<ol class=list-inline>\n",
       "\t<li>'A'</li>\n",
       "\t<li>'B'</li>\n",
       "\t<li>'C'</li>\n",
       "</ol>\n"
      ],
      "text/latex": [
       "\\begin{enumerate*}\n",
       "\\item 'A'\n",
       "\\item 'B'\n",
       "\\item 'C'\n",
       "\\end{enumerate*}\n"
      ],
      "text/markdown": [
       "1. 'A'\n",
       "2. 'B'\n",
       "3. 'C'\n",
       "\n",
       "\n"
      ],
      "text/plain": [
       "[1] \"A\" \"B\" \"C\""
      ]
     },
     "metadata": {},
     "output_type": "display_data"
    }
   ],
   "source": [
    "# To access from list, we make use of ' $ ' or '[ ]'\n",
    "l2$a"
   ]
  },
  {
   "cell_type": "code",
   "execution_count": 19,
   "metadata": {},
   "outputs": [
    {
     "data": {
      "text/html": [
       "<strong>$a</strong> = <ol class=list-inline>\n",
       "\t<li>'A'</li>\n",
       "\t<li>'B'</li>\n",
       "\t<li>'C'</li>\n",
       "</ol>\n"
      ],
      "text/latex": [
       "\\textbf{\\$a} = \\begin{enumerate*}\n",
       "\\item 'A'\n",
       "\\item 'B'\n",
       "\\item 'C'\n",
       "\\end{enumerate*}\n"
      ],
      "text/markdown": [
       "**$a** = 1. 'A'\n",
       "2. 'B'\n",
       "3. 'C'\n",
       "\n",
       "\n"
      ],
      "text/plain": [
       "$a\n",
       "[1] \"A\" \"B\" \"C\"\n"
      ]
     },
     "metadata": {},
     "output_type": "display_data"
    }
   ],
   "source": [
    "l2['a']"
   ]
  },
  {
   "cell_type": "code",
   "execution_count": 20,
   "metadata": {},
   "outputs": [],
   "source": [
    "l2$a=c('X','Y','Z')"
   ]
  },
  {
   "cell_type": "code",
   "execution_count": 21,
   "metadata": {},
   "outputs": [
    {
     "data": {
      "text/html": [
       "<dl>\n",
       "\t<dt>$a</dt>\n",
       "\t\t<dd><ol class=list-inline>\n",
       "\t<li>'X'</li>\n",
       "\t<li>'Y'</li>\n",
       "\t<li>'Z'</li>\n",
       "</ol>\n",
       "</dd>\n",
       "\t<dt>$b</dt>\n",
       "\t\t<dd><ol class=list-inline>\n",
       "\t<li>4</li>\n",
       "\t<li>5</li>\n",
       "\t<li>6</li>\n",
       "</ol>\n",
       "</dd>\n",
       "</dl>\n"
      ],
      "text/latex": [
       "\\begin{description}\n",
       "\\item[\\$a] \\begin{enumerate*}\n",
       "\\item 'X'\n",
       "\\item 'Y'\n",
       "\\item 'Z'\n",
       "\\end{enumerate*}\n",
       "\n",
       "\\item[\\$b] \\begin{enumerate*}\n",
       "\\item 4\n",
       "\\item 5\n",
       "\\item 6\n",
       "\\end{enumerate*}\n",
       "\n",
       "\\end{description}\n"
      ],
      "text/markdown": [
       "$a\n",
       ":   1. 'X'\n",
       "2. 'Y'\n",
       "3. 'Z'\n",
       "\n",
       "\n",
       "\n",
       "$b\n",
       ":   1. 4\n",
       "2. 5\n",
       "3. 6\n",
       "\n",
       "\n",
       "\n",
       "\n",
       "\n"
      ],
      "text/plain": [
       "$a\n",
       "[1] \"X\" \"Y\" \"Z\"\n",
       "\n",
       "$b\n",
       "[1] 4 5 6\n"
      ]
     },
     "metadata": {},
     "output_type": "display_data"
    }
   ],
   "source": [
    "l2"
   ]
  },
  {
   "cell_type": "code",
   "execution_count": 22,
   "metadata": {},
   "outputs": [],
   "source": [
    "l2$a=('Q')"
   ]
  },
  {
   "cell_type": "code",
   "execution_count": 23,
   "metadata": {},
   "outputs": [
    {
     "data": {
      "text/html": [
       "<dl>\n",
       "\t<dt>$a</dt>\n",
       "\t\t<dd>'Q'</dd>\n",
       "\t<dt>$b</dt>\n",
       "\t\t<dd><ol class=list-inline>\n",
       "\t<li>4</li>\n",
       "\t<li>5</li>\n",
       "\t<li>6</li>\n",
       "</ol>\n",
       "</dd>\n",
       "</dl>\n"
      ],
      "text/latex": [
       "\\begin{description}\n",
       "\\item[\\$a] 'Q'\n",
       "\\item[\\$b] \\begin{enumerate*}\n",
       "\\item 4\n",
       "\\item 5\n",
       "\\item 6\n",
       "\\end{enumerate*}\n",
       "\n",
       "\\end{description}\n"
      ],
      "text/markdown": [
       "$a\n",
       ":   'Q'\n",
       "$b\n",
       ":   1. 4\n",
       "2. 5\n",
       "3. 6\n",
       "\n",
       "\n",
       "\n",
       "\n",
       "\n"
      ],
      "text/plain": [
       "$a\n",
       "[1] \"Q\"\n",
       "\n",
       "$b\n",
       "[1] 4 5 6\n"
      ]
     },
     "metadata": {},
     "output_type": "display_data"
    }
   ],
   "source": [
    "l2"
   ]
  },
  {
   "cell_type": "markdown",
   "metadata": {},
   "source": [
    "## 3. Array"
   ]
  },
  {
   "cell_type": "code",
   "execution_count": 24,
   "metadata": {},
   "outputs": [],
   "source": [
    "arr <- array(data = c(1,2,3,4,5,6,7,8,9,10), dim = c(5,2), dimnames = list(c('r1','r2','r3','r4','r5'),c('c1','c2')))"
   ]
  },
  {
   "cell_type": "code",
   "execution_count": 25,
   "metadata": {},
   "outputs": [
    {
     "data": {
      "text/html": [
       "<table>\n",
       "<thead><tr><th></th><th scope=col>c1</th><th scope=col>c2</th></tr></thead>\n",
       "<tbody>\n",
       "\t<tr><th scope=row>r1</th><td>1 </td><td> 6</td></tr>\n",
       "\t<tr><th scope=row>r2</th><td>2 </td><td> 7</td></tr>\n",
       "\t<tr><th scope=row>r3</th><td>3 </td><td> 8</td></tr>\n",
       "\t<tr><th scope=row>r4</th><td>4 </td><td> 9</td></tr>\n",
       "\t<tr><th scope=row>r5</th><td>5 </td><td>10</td></tr>\n",
       "</tbody>\n",
       "</table>\n"
      ],
      "text/latex": [
       "\\begin{tabular}{r|ll}\n",
       "  & c1 & c2\\\\\n",
       "\\hline\n",
       "\tr1 & 1  &  6\\\\\n",
       "\tr2 & 2  &  7\\\\\n",
       "\tr3 & 3  &  8\\\\\n",
       "\tr4 & 4  &  9\\\\\n",
       "\tr5 & 5  & 10\\\\\n",
       "\\end{tabular}\n"
      ],
      "text/markdown": [
       "\n",
       "| <!--/--> | c1 | c2 |\n",
       "|---|---|---|\n",
       "| r1 | 1  |  6 |\n",
       "| r2 | 2  |  7 |\n",
       "| r3 | 3  |  8 |\n",
       "| r4 | 4  |  9 |\n",
       "| r5 | 5  | 10 |\n",
       "\n"
      ],
      "text/plain": [
       "   c1 c2\n",
       "r1 1   6\n",
       "r2 2   7\n",
       "r3 3   8\n",
       "r4 4   9\n",
       "r5 5  10"
      ]
     },
     "metadata": {},
     "output_type": "display_data"
    }
   ],
   "source": [
    "arr"
   ]
  },
  {
   "cell_type": "code",
   "execution_count": 26,
   "metadata": {},
   "outputs": [],
   "source": [
    "arr2 <- array(data = c(1,2,3,4,5,6,7,8,9,10), dim = c(2,5), dimnames = list(c('c1','c2'),c('r1','r2','r3','r4','r5')))"
   ]
  },
  {
   "cell_type": "code",
   "execution_count": 27,
   "metadata": {},
   "outputs": [
    {
     "data": {
      "text/html": [
       "<table>\n",
       "<thead><tr><th></th><th scope=col>r1</th><th scope=col>r2</th><th scope=col>r3</th><th scope=col>r4</th><th scope=col>r5</th></tr></thead>\n",
       "<tbody>\n",
       "\t<tr><th scope=row>c1</th><td>1 </td><td>3 </td><td>5 </td><td>7 </td><td> 9</td></tr>\n",
       "\t<tr><th scope=row>c2</th><td>2 </td><td>4 </td><td>6 </td><td>8 </td><td>10</td></tr>\n",
       "</tbody>\n",
       "</table>\n"
      ],
      "text/latex": [
       "\\begin{tabular}{r|lllll}\n",
       "  & r1 & r2 & r3 & r4 & r5\\\\\n",
       "\\hline\n",
       "\tc1 & 1  & 3  & 5  & 7  &  9\\\\\n",
       "\tc2 & 2  & 4  & 6  & 8  & 10\\\\\n",
       "\\end{tabular}\n"
      ],
      "text/markdown": [
       "\n",
       "| <!--/--> | r1 | r2 | r3 | r4 | r5 |\n",
       "|---|---|---|---|---|---|\n",
       "| c1 | 1  | 3  | 5  | 7  |  9 |\n",
       "| c2 | 2  | 4  | 6  | 8  | 10 |\n",
       "\n"
      ],
      "text/plain": [
       "   r1 r2 r3 r4 r5\n",
       "c1 1  3  5  7   9\n",
       "c2 2  4  6  8  10"
      ]
     },
     "metadata": {},
     "output_type": "display_data"
    }
   ],
   "source": [
    "arr2"
   ]
  },
  {
   "cell_type": "markdown",
   "metadata": {},
   "source": [
    "## 4. Factor"
   ]
  },
  {
   "cell_type": "code",
   "execution_count": 28,
   "metadata": {},
   "outputs": [],
   "source": [
    "a<-c(1,2,3,2,2,1,3,3,2,3,1,2)"
   ]
  },
  {
   "cell_type": "code",
   "execution_count": 29,
   "metadata": {},
   "outputs": [
    {
     "name": "stdout",
     "output_type": "stream",
     "text": [
      " [1] 1 2 3 2 2 1 3 3 2 3 1 2\n",
      "[1] \"numeric\"\n"
     ]
    }
   ],
   "source": [
    "print(a)\n",
    "print(class(a))"
   ]
  },
  {
   "cell_type": "code",
   "execution_count": 30,
   "metadata": {},
   "outputs": [],
   "source": [
    "f <- factor(a)"
   ]
  },
  {
   "cell_type": "code",
   "execution_count": 31,
   "metadata": {},
   "outputs": [
    {
     "data": {
      "text/html": [
       "<ol class=list-inline>\n",
       "\t<li>1</li>\n",
       "\t<li>2</li>\n",
       "\t<li>3</li>\n",
       "\t<li>2</li>\n",
       "\t<li>2</li>\n",
       "\t<li>1</li>\n",
       "\t<li>3</li>\n",
       "\t<li>3</li>\n",
       "\t<li>2</li>\n",
       "\t<li>3</li>\n",
       "\t<li>1</li>\n",
       "\t<li>2</li>\n",
       "</ol>\n",
       "\n",
       "<details>\n",
       "\t<summary style=display:list-item;cursor:pointer>\n",
       "\t\t<strong>Levels</strong>:\n",
       "\t</summary>\n",
       "\t<ol class=list-inline>\n",
       "\t\t<li>'1'</li>\n",
       "\t\t<li>'2'</li>\n",
       "\t\t<li>'3'</li>\n",
       "\t</ol>\n",
       "</details>"
      ],
      "text/latex": [
       "\\begin{enumerate*}\n",
       "\\item 1\n",
       "\\item 2\n",
       "\\item 3\n",
       "\\item 2\n",
       "\\item 2\n",
       "\\item 1\n",
       "\\item 3\n",
       "\\item 3\n",
       "\\item 2\n",
       "\\item 3\n",
       "\\item 1\n",
       "\\item 2\n",
       "\\end{enumerate*}\n",
       "\n",
       "\\emph{Levels}: \\begin{enumerate*}\n",
       "\\item '1'\n",
       "\\item '2'\n",
       "\\item '3'\n",
       "\\end{enumerate*}\n"
      ],
      "text/markdown": [
       "1. 1\n",
       "2. 2\n",
       "3. 3\n",
       "4. 2\n",
       "5. 2\n",
       "6. 1\n",
       "7. 3\n",
       "8. 3\n",
       "9. 2\n",
       "10. 3\n",
       "11. 1\n",
       "12. 2\n",
       "\n",
       "\n",
       "\n",
       "**Levels**: 1. '1'\n",
       "2. '2'\n",
       "3. '3'\n",
       "\n",
       "\n"
      ],
      "text/plain": [
       " [1] 1 2 3 2 2 1 3 3 2 3 1 2\n",
       "Levels: 1 2 3"
      ]
     },
     "metadata": {},
     "output_type": "display_data"
    }
   ],
   "source": [
    "f"
   ]
  },
  {
   "cell_type": "markdown",
   "metadata": {},
   "source": [
    "Factor forms level in ascending order even if numbers are randomly placed.\\\n",
    "We can give user-defined levels to a factor to tackle this."
   ]
  },
  {
   "cell_type": "code",
   "execution_count": 32,
   "metadata": {},
   "outputs": [],
   "source": [
    "b<-c(1,2,4,3,2,2,3,1,4)"
   ]
  },
  {
   "cell_type": "code",
   "execution_count": 33,
   "metadata": {},
   "outputs": [],
   "source": [
    "f2<-factor(b, levels=c(1,2,4,3))"
   ]
  },
  {
   "cell_type": "code",
   "execution_count": 34,
   "metadata": {},
   "outputs": [
    {
     "data": {
      "text/html": [
       "<ol class=list-inline>\n",
       "\t<li>1</li>\n",
       "\t<li>2</li>\n",
       "\t<li>4</li>\n",
       "\t<li>3</li>\n",
       "\t<li>2</li>\n",
       "\t<li>2</li>\n",
       "\t<li>3</li>\n",
       "\t<li>1</li>\n",
       "\t<li>4</li>\n",
       "</ol>\n",
       "\n",
       "<details>\n",
       "\t<summary style=display:list-item;cursor:pointer>\n",
       "\t\t<strong>Levels</strong>:\n",
       "\t</summary>\n",
       "\t<ol class=list-inline>\n",
       "\t\t<li>'1'</li>\n",
       "\t\t<li>'2'</li>\n",
       "\t\t<li>'4'</li>\n",
       "\t\t<li>'3'</li>\n",
       "\t</ol>\n",
       "</details>"
      ],
      "text/latex": [
       "\\begin{enumerate*}\n",
       "\\item 1\n",
       "\\item 2\n",
       "\\item 4\n",
       "\\item 3\n",
       "\\item 2\n",
       "\\item 2\n",
       "\\item 3\n",
       "\\item 1\n",
       "\\item 4\n",
       "\\end{enumerate*}\n",
       "\n",
       "\\emph{Levels}: \\begin{enumerate*}\n",
       "\\item '1'\n",
       "\\item '2'\n",
       "\\item '4'\n",
       "\\item '3'\n",
       "\\end{enumerate*}\n"
      ],
      "text/markdown": [
       "1. 1\n",
       "2. 2\n",
       "3. 4\n",
       "4. 3\n",
       "5. 2\n",
       "6. 2\n",
       "7. 3\n",
       "8. 1\n",
       "9. 4\n",
       "\n",
       "\n",
       "\n",
       "**Levels**: 1. '1'\n",
       "2. '2'\n",
       "3. '4'\n",
       "4. '3'\n",
       "\n",
       "\n"
      ],
      "text/plain": [
       "[1] 1 2 4 3 2 2 3 1 4\n",
       "Levels: 1 2 4 3"
      ]
     },
     "metadata": {},
     "output_type": "display_data"
    }
   ],
   "source": [
    "f2"
   ]
  },
  {
   "cell_type": "code",
   "execution_count": 35,
   "metadata": {},
   "outputs": [],
   "source": [
    "d=c('a','c','d','b','a','d','c','b')\n",
    "f3<-factor(d, levels=c('a','c','d','b'))"
   ]
  },
  {
   "cell_type": "code",
   "execution_count": 36,
   "metadata": {},
   "outputs": [
    {
     "data": {
      "text/html": [
       "<ol class=list-inline>\n",
       "\t<li>a</li>\n",
       "\t<li>c</li>\n",
       "\t<li>d</li>\n",
       "\t<li>b</li>\n",
       "\t<li>a</li>\n",
       "\t<li>d</li>\n",
       "\t<li>c</li>\n",
       "\t<li>b</li>\n",
       "</ol>\n",
       "\n",
       "<details>\n",
       "\t<summary style=display:list-item;cursor:pointer>\n",
       "\t\t<strong>Levels</strong>:\n",
       "\t</summary>\n",
       "\t<ol class=list-inline>\n",
       "\t\t<li>'a'</li>\n",
       "\t\t<li>'c'</li>\n",
       "\t\t<li>'d'</li>\n",
       "\t\t<li>'b'</li>\n",
       "\t</ol>\n",
       "</details>"
      ],
      "text/latex": [
       "\\begin{enumerate*}\n",
       "\\item a\n",
       "\\item c\n",
       "\\item d\n",
       "\\item b\n",
       "\\item a\n",
       "\\item d\n",
       "\\item c\n",
       "\\item b\n",
       "\\end{enumerate*}\n",
       "\n",
       "\\emph{Levels}: \\begin{enumerate*}\n",
       "\\item 'a'\n",
       "\\item 'c'\n",
       "\\item 'd'\n",
       "\\item 'b'\n",
       "\\end{enumerate*}\n"
      ],
      "text/markdown": [
       "1. a\n",
       "2. c\n",
       "3. d\n",
       "4. b\n",
       "5. a\n",
       "6. d\n",
       "7. c\n",
       "8. b\n",
       "\n",
       "\n",
       "\n",
       "**Levels**: 1. 'a'\n",
       "2. 'c'\n",
       "3. 'd'\n",
       "4. 'b'\n",
       "\n",
       "\n"
      ],
      "text/plain": [
       "[1] a c d b a d c b\n",
       "Levels: a c d b"
      ]
     },
     "metadata": {},
     "output_type": "display_data"
    }
   ],
   "source": [
    "f3"
   ]
  },
  {
   "cell_type": "markdown",
   "metadata": {},
   "source": [
    "## 5. Complex"
   ]
  },
  {
   "cell_type": "code",
   "execution_count": 37,
   "metadata": {},
   "outputs": [],
   "source": [
    "z<- 1+2i"
   ]
  },
  {
   "cell_type": "code",
   "execution_count": 38,
   "metadata": {},
   "outputs": [
    {
     "data": {
      "text/html": [
       "1+2i"
      ],
      "text/latex": [
       "1+2i"
      ],
      "text/markdown": [
       "1+2i"
      ],
      "text/plain": [
       "[1] 1+2i"
      ]
     },
     "metadata": {},
     "output_type": "display_data"
    }
   ],
   "source": [
    "z"
   ]
  },
  {
   "cell_type": "code",
   "execution_count": 39,
   "metadata": {},
   "outputs": [
    {
     "data": {
      "text/html": [
       "'complex'"
      ],
      "text/latex": [
       "'complex'"
      ],
      "text/markdown": [
       "'complex'"
      ],
      "text/plain": [
       "[1] \"complex\""
      ]
     },
     "metadata": {},
     "output_type": "display_data"
    }
   ],
   "source": [
    "class(z)"
   ]
  },
  {
   "cell_type": "code",
   "execution_count": 40,
   "metadata": {},
   "outputs": [],
   "source": [
    "z1 <- 3-4i\n",
    "z2 <- 5+6i"
   ]
  },
  {
   "cell_type": "code",
   "execution_count": 41,
   "metadata": {},
   "outputs": [
    {
     "data": {
      "text/html": [
       "8+2i"
      ],
      "text/latex": [
       "8+2i"
      ],
      "text/markdown": [
       "8+2i"
      ],
      "text/plain": [
       "[1] 8+2i"
      ]
     },
     "metadata": {},
     "output_type": "display_data"
    }
   ],
   "source": [
    "z1+z2"
   ]
  },
  {
   "cell_type": "code",
   "execution_count": 42,
   "metadata": {},
   "outputs": [
    {
     "data": {
      "text/html": [
       "-2-10i"
      ],
      "text/latex": [
       "-2-10i"
      ],
      "text/markdown": [
       "-2-10i"
      ],
      "text/plain": [
       "[1] -2-10i"
      ]
     },
     "metadata": {},
     "output_type": "display_data"
    }
   ],
   "source": [
    "z1-z2"
   ]
  },
  {
   "cell_type": "code",
   "execution_count": 43,
   "metadata": {},
   "outputs": [
    {
     "data": {
      "text/html": [
       "39-2i"
      ],
      "text/latex": [
       "39-2i"
      ],
      "text/markdown": [
       "39-2i"
      ],
      "text/plain": [
       "[1] 39-2i"
      ]
     },
     "metadata": {},
     "output_type": "display_data"
    }
   ],
   "source": [
    "z1*z2\n",
    "# (3-4i)*(5+6i) = 3*5 + 3*6i + (-4i)*5 + (-4i)*(6i) = 15 + 18i -20i -24i^2 = 15 -2i +24 = 39 -2i"
   ]
  },
  {
   "cell_type": "code",
   "execution_count": 44,
   "metadata": {},
   "outputs": [
    {
     "data": {
      "text/html": [
       "-0.147540983606557-0.622950819672131i"
      ],
      "text/latex": [
       "-0.147540983606557-0.622950819672131i"
      ],
      "text/markdown": [
       "-0.147540983606557-0.622950819672131i"
      ],
      "text/plain": [
       "[1] -0.147541-0.6229508i"
      ]
     },
     "metadata": {},
     "output_type": "display_data"
    }
   ],
   "source": [
    "z1/z2"
   ]
  },
  {
   "cell_type": "markdown",
   "metadata": {},
   "source": [
    "## 6. DataFrame"
   ]
  },
  {
   "cell_type": "code",
   "execution_count": 45,
   "metadata": {},
   "outputs": [],
   "source": [
    "id<-c(1,2,3,4)\n",
    "name<-c('Chris','Tony','Mark','Clint')\n",
    "df<-data.frame(id,name)"
   ]
  },
  {
   "cell_type": "code",
   "execution_count": 46,
   "metadata": {},
   "outputs": [
    {
     "data": {
      "text/html": [
       "<table>\n",
       "<thead><tr><th scope=col>id</th><th scope=col>name</th></tr></thead>\n",
       "<tbody>\n",
       "\t<tr><td>1    </td><td>Chris</td></tr>\n",
       "\t<tr><td>2    </td><td>Tony </td></tr>\n",
       "\t<tr><td>3    </td><td>Mark </td></tr>\n",
       "\t<tr><td>4    </td><td>Clint</td></tr>\n",
       "</tbody>\n",
       "</table>\n"
      ],
      "text/latex": [
       "\\begin{tabular}{r|ll}\n",
       " id & name\\\\\n",
       "\\hline\n",
       "\t 1     & Chris\\\\\n",
       "\t 2     & Tony \\\\\n",
       "\t 3     & Mark \\\\\n",
       "\t 4     & Clint\\\\\n",
       "\\end{tabular}\n"
      ],
      "text/markdown": [
       "\n",
       "| id | name |\n",
       "|---|---|\n",
       "| 1     | Chris |\n",
       "| 2     | Tony  |\n",
       "| 3     | Mark  |\n",
       "| 4     | Clint |\n",
       "\n"
      ],
      "text/plain": [
       "  id name \n",
       "1 1  Chris\n",
       "2 2  Tony \n",
       "3 3  Mark \n",
       "4 4  Clint"
      ]
     },
     "metadata": {},
     "output_type": "display_data"
    }
   ],
   "source": [
    "df"
   ]
  },
  {
   "cell_type": "code",
   "execution_count": 47,
   "metadata": {},
   "outputs": [
    {
     "data": {
      "text/html": [
       "<ol class=list-inline>\n",
       "\t<li>'id'</li>\n",
       "\t<li>'name'</li>\n",
       "</ol>\n"
      ],
      "text/latex": [
       "\\begin{enumerate*}\n",
       "\\item 'id'\n",
       "\\item 'name'\n",
       "\\end{enumerate*}\n"
      ],
      "text/markdown": [
       "1. 'id'\n",
       "2. 'name'\n",
       "\n",
       "\n"
      ],
      "text/plain": [
       "[1] \"id\"   \"name\""
      ]
     },
     "metadata": {},
     "output_type": "display_data"
    }
   ],
   "source": [
    "colnames(df)"
   ]
  },
  {
   "cell_type": "code",
   "execution_count": 48,
   "metadata": {},
   "outputs": [],
   "source": [
    "df2 <- data.frame('id'=c(1,2,3,4,5), 'name'=c('Chris','Tony','Mark','Clint','Nick'))"
   ]
  },
  {
   "cell_type": "code",
   "execution_count": 49,
   "metadata": {},
   "outputs": [],
   "source": [
    "colnames(df2)<-list('ID','NAME')"
   ]
  },
  {
   "cell_type": "code",
   "execution_count": 50,
   "metadata": {},
   "outputs": [
    {
     "data": {
      "text/html": [
       "<table>\n",
       "<thead><tr><th scope=col>ID</th><th scope=col>NAME</th></tr></thead>\n",
       "<tbody>\n",
       "\t<tr><td>1    </td><td>Chris</td></tr>\n",
       "\t<tr><td>2    </td><td>Tony </td></tr>\n",
       "\t<tr><td>3    </td><td>Mark </td></tr>\n",
       "\t<tr><td>4    </td><td>Clint</td></tr>\n",
       "\t<tr><td>5    </td><td>Nick </td></tr>\n",
       "</tbody>\n",
       "</table>\n"
      ],
      "text/latex": [
       "\\begin{tabular}{r|ll}\n",
       " ID & NAME\\\\\n",
       "\\hline\n",
       "\t 1     & Chris\\\\\n",
       "\t 2     & Tony \\\\\n",
       "\t 3     & Mark \\\\\n",
       "\t 4     & Clint\\\\\n",
       "\t 5     & Nick \\\\\n",
       "\\end{tabular}\n"
      ],
      "text/markdown": [
       "\n",
       "| ID | NAME |\n",
       "|---|---|\n",
       "| 1     | Chris |\n",
       "| 2     | Tony  |\n",
       "| 3     | Mark  |\n",
       "| 4     | Clint |\n",
       "| 5     | Nick  |\n",
       "\n"
      ],
      "text/plain": [
       "  ID NAME \n",
       "1 1  Chris\n",
       "2 2  Tony \n",
       "3 3  Mark \n",
       "4 4  Clint\n",
       "5 5  Nick "
      ]
     },
     "metadata": {},
     "output_type": "display_data"
    }
   ],
   "source": [
    "df2"
   ]
  },
  {
   "cell_type": "markdown",
   "metadata": {},
   "source": [
    "## 7. Matrix"
   ]
  },
  {
   "cell_type": "code",
   "execution_count": 51,
   "metadata": {},
   "outputs": [],
   "source": [
    "mat1 = matrix(c(1,2,3,4,5,6,7,8), nrow=4, ncol=2, dimnames = list(c('r1','r2','r3','r4'),c('c1','c2')))"
   ]
  },
  {
   "cell_type": "code",
   "execution_count": 52,
   "metadata": {},
   "outputs": [
    {
     "data": {
      "text/html": [
       "<table>\n",
       "<thead><tr><th></th><th scope=col>c1</th><th scope=col>c2</th></tr></thead>\n",
       "<tbody>\n",
       "\t<tr><th scope=row>r1</th><td>1</td><td>5</td></tr>\n",
       "\t<tr><th scope=row>r2</th><td>2</td><td>6</td></tr>\n",
       "\t<tr><th scope=row>r3</th><td>3</td><td>7</td></tr>\n",
       "\t<tr><th scope=row>r4</th><td>4</td><td>8</td></tr>\n",
       "</tbody>\n",
       "</table>\n"
      ],
      "text/latex": [
       "\\begin{tabular}{r|ll}\n",
       "  & c1 & c2\\\\\n",
       "\\hline\n",
       "\tr1 & 1 & 5\\\\\n",
       "\tr2 & 2 & 6\\\\\n",
       "\tr3 & 3 & 7\\\\\n",
       "\tr4 & 4 & 8\\\\\n",
       "\\end{tabular}\n"
      ],
      "text/markdown": [
       "\n",
       "| <!--/--> | c1 | c2 |\n",
       "|---|---|---|\n",
       "| r1 | 1 | 5 |\n",
       "| r2 | 2 | 6 |\n",
       "| r3 | 3 | 7 |\n",
       "| r4 | 4 | 8 |\n",
       "\n"
      ],
      "text/plain": [
       "   c1 c2\n",
       "r1 1  5 \n",
       "r2 2  6 \n",
       "r3 3  7 \n",
       "r4 4  8 "
      ]
     },
     "metadata": {},
     "output_type": "display_data"
    }
   ],
   "source": [
    "mat1"
   ]
  },
  {
   "cell_type": "code",
   "execution_count": 53,
   "metadata": {},
   "outputs": [],
   "source": [
    "mat2 = matrix(c(1,2,3,4,5,6,7,8), nrow=4, ncol=2, dimnames = list(c('r1','r2','r3','r4'),c('c1','c2')), byrow=TRUE)"
   ]
  },
  {
   "cell_type": "code",
   "execution_count": 54,
   "metadata": {},
   "outputs": [
    {
     "data": {
      "text/html": [
       "<table>\n",
       "<thead><tr><th></th><th scope=col>c1</th><th scope=col>c2</th></tr></thead>\n",
       "<tbody>\n",
       "\t<tr><th scope=row>r1</th><td>1</td><td>2</td></tr>\n",
       "\t<tr><th scope=row>r2</th><td>3</td><td>4</td></tr>\n",
       "\t<tr><th scope=row>r3</th><td>5</td><td>6</td></tr>\n",
       "\t<tr><th scope=row>r4</th><td>7</td><td>8</td></tr>\n",
       "</tbody>\n",
       "</table>\n"
      ],
      "text/latex": [
       "\\begin{tabular}{r|ll}\n",
       "  & c1 & c2\\\\\n",
       "\\hline\n",
       "\tr1 & 1 & 2\\\\\n",
       "\tr2 & 3 & 4\\\\\n",
       "\tr3 & 5 & 6\\\\\n",
       "\tr4 & 7 & 8\\\\\n",
       "\\end{tabular}\n"
      ],
      "text/markdown": [
       "\n",
       "| <!--/--> | c1 | c2 |\n",
       "|---|---|---|\n",
       "| r1 | 1 | 2 |\n",
       "| r2 | 3 | 4 |\n",
       "| r3 | 5 | 6 |\n",
       "| r4 | 7 | 8 |\n",
       "\n"
      ],
      "text/plain": [
       "   c1 c2\n",
       "r1 1  2 \n",
       "r2 3  4 \n",
       "r3 5  6 \n",
       "r4 7  8 "
      ]
     },
     "metadata": {},
     "output_type": "display_data"
    }
   ],
   "source": [
    "mat2"
   ]
  },
  {
   "cell_type": "code",
   "execution_count": 55,
   "metadata": {},
   "outputs": [
    {
     "name": "stdout",
     "output_type": "stream",
     "text": [
      "[1] 4\n",
      "[1] 2\n"
     ]
    }
   ],
   "source": [
    "print(nrow(mat2))\n",
    "print(ncol(mat2))"
   ]
  },
  {
   "cell_type": "markdown",
   "metadata": {},
   "source": [
    "## 8. date/time"
   ]
  },
  {
   "cell_type": "code",
   "execution_count": 56,
   "metadata": {},
   "outputs": [
    {
     "data": {
      "text/html": [
       "'Thu Jun 11 18:39:42 2020'"
      ],
      "text/latex": [
       "'Thu Jun 11 18:39:42 2020'"
      ],
      "text/markdown": [
       "'Thu Jun 11 18:39:42 2020'"
      ],
      "text/plain": [
       "[1] \"Thu Jun 11 18:39:42 2020\""
      ]
     },
     "metadata": {},
     "output_type": "display_data"
    }
   ],
   "source": [
    "date()"
   ]
  },
  {
   "cell_type": "code",
   "execution_count": 57,
   "metadata": {},
   "outputs": [
    {
     "data": {
      "text/plain": [
       "[1] \"2020-06-11 18:39:42 IST\""
      ]
     },
     "metadata": {},
     "output_type": "display_data"
    }
   ],
   "source": [
    "Sys.time()"
   ]
  },
  {
   "cell_type": "code",
   "execution_count": 58,
   "metadata": {},
   "outputs": [
    {
     "data": {
      "text/html": [
       "'Asia/Calcutta'"
      ],
      "text/latex": [
       "'Asia/Calcutta'"
      ],
      "text/markdown": [
       "'Asia/Calcutta'"
      ],
      "text/plain": [
       "[1] \"Asia/Calcutta\""
      ]
     },
     "metadata": {},
     "output_type": "display_data"
    }
   ],
   "source": [
    "Sys.timezone()"
   ]
  },
  {
   "cell_type": "code",
   "execution_count": 59,
   "metadata": {},
   "outputs": [],
   "source": [
    "t <- Sys.time()\n",
    "t1<-format(t, '%d %m %Y - %H:%M:%S')\n",
    "t2<-format(t, '%z')"
   ]
  },
  {
   "cell_type": "code",
   "execution_count": 60,
   "metadata": {},
   "outputs": [
    {
     "data": {
      "text/html": [
       "'11 06 2020 - 18:39:42'"
      ],
      "text/latex": [
       "'11 06 2020 - 18:39:42'"
      ],
      "text/markdown": [
       "'11 06 2020 - 18:39:42'"
      ],
      "text/plain": [
       "[1] \"11 06 2020 - 18:39:42\""
      ]
     },
     "metadata": {},
     "output_type": "display_data"
    }
   ],
   "source": [
    "t1"
   ]
  },
  {
   "cell_type": "code",
   "execution_count": 61,
   "metadata": {},
   "outputs": [
    {
     "data": {
      "text/html": [
       "'+0530'"
      ],
      "text/latex": [
       "'+0530'"
      ],
      "text/markdown": [
       "'+0530'"
      ],
      "text/plain": [
       "[1] \"+0530\""
      ]
     },
     "metadata": {},
     "output_type": "display_data"
    }
   ],
   "source": [
    "t2"
   ]
  },
  {
   "cell_type": "code",
   "execution_count": 62,
   "metadata": {},
   "outputs": [
    {
     "data": {
      "text/html": [
       "42.6092219352722"
      ],
      "text/latex": [
       "42.6092219352722"
      ],
      "text/markdown": [
       "42.6092219352722"
      ],
      "text/plain": [
       "[1] 42.60922"
      ]
     },
     "metadata": {},
     "output_type": "display_data"
    },
    {
     "data": {
      "text/html": [
       "39"
      ],
      "text/latex": [
       "39"
      ],
      "text/markdown": [
       "39"
      ],
      "text/plain": [
       "[1] 39"
      ]
     },
     "metadata": {},
     "output_type": "display_data"
    },
    {
     "data": {
      "text/html": [
       "18"
      ],
      "text/latex": [
       "18"
      ],
      "text/markdown": [
       "18"
      ],
      "text/plain": [
       "[1] 18"
      ]
     },
     "metadata": {},
     "output_type": "display_data"
    },
    {
     "data": {
      "text/html": [
       "11"
      ],
      "text/latex": [
       "11"
      ],
      "text/markdown": [
       "11"
      ],
      "text/plain": [
       "[1] 11"
      ]
     },
     "metadata": {},
     "output_type": "display_data"
    },
    {
     "data": {
      "text/html": [
       "4"
      ],
      "text/latex": [
       "4"
      ],
      "text/markdown": [
       "4"
      ],
      "text/plain": [
       "[1] 4"
      ]
     },
     "metadata": {},
     "output_type": "display_data"
    },
    {
     "data": {
      "text/html": [
       "162"
      ],
      "text/latex": [
       "162"
      ],
      "text/markdown": [
       "162"
      ],
      "text/plain": [
       "[1] 162"
      ]
     },
     "metadata": {},
     "output_type": "display_data"
    }
   ],
   "source": [
    "time_lt<-as.POSIXlt(Sys.time())\n",
    "time_lt$sec # seconds\n",
    "time_lt$min # minutes\n",
    "time_lt$hour #hours\n",
    "time_lt$mday # month\n",
    "time_lt$wday # weekday\n",
    "time_lt$yday # year day"
   ]
  },
  {
   "cell_type": "code",
   "execution_count": 63,
   "metadata": {},
   "outputs": [],
   "source": [
    "time_ct<-as.POSIXct(Sys.time())"
   ]
  },
  {
   "cell_type": "code",
   "execution_count": 64,
   "metadata": {},
   "outputs": [
    {
     "data": {
      "text/plain": [
       "[1] \"2020-06-11 18:39:42 IST\""
      ]
     },
     "metadata": {},
     "output_type": "display_data"
    }
   ],
   "source": [
    "time_ct"
   ]
  },
  {
   "cell_type": "markdown",
   "metadata": {},
   "source": [
    "## 9. Operators"
   ]
  },
  {
   "cell_type": "code",
   "execution_count": 65,
   "metadata": {},
   "outputs": [
    {
     "data": {
      "text/html": [
       "5"
      ],
      "text/latex": [
       "5"
      ],
      "text/markdown": [
       "5"
      ],
      "text/plain": [
       "[1] 5"
      ]
     },
     "metadata": {},
     "output_type": "display_data"
    },
    {
     "data": {
      "text/html": [
       "-1"
      ],
      "text/latex": [
       "-1"
      ],
      "text/markdown": [
       "-1"
      ],
      "text/plain": [
       "[1] -1"
      ]
     },
     "metadata": {},
     "output_type": "display_data"
    },
    {
     "data": {
      "text/html": [
       "6"
      ],
      "text/latex": [
       "6"
      ],
      "text/markdown": [
       "6"
      ],
      "text/plain": [
       "[1] 6"
      ]
     },
     "metadata": {},
     "output_type": "display_data"
    },
    {
     "data": {
      "text/html": [
       "0.666666666666667"
      ],
      "text/latex": [
       "0.666666666666667"
      ],
      "text/markdown": [
       "0.666666666666667"
      ],
      "text/plain": [
       "[1] 0.6666667"
      ]
     },
     "metadata": {},
     "output_type": "display_data"
    },
    {
     "data": {
      "text/html": [
       "8"
      ],
      "text/latex": [
       "8"
      ],
      "text/markdown": [
       "8"
      ],
      "text/plain": [
       "[1] 8"
      ]
     },
     "metadata": {},
     "output_type": "display_data"
    },
    {
     "data": {
      "text/html": [
       "8"
      ],
      "text/latex": [
       "8"
      ],
      "text/markdown": [
       "8"
      ],
      "text/plain": [
       "[1] 8"
      ]
     },
     "metadata": {},
     "output_type": "display_data"
    },
    {
     "data": {
      "text/html": [
       "1"
      ],
      "text/latex": [
       "1"
      ],
      "text/markdown": [
       "1"
      ],
      "text/plain": [
       "[1] 1"
      ]
     },
     "metadata": {},
     "output_type": "display_data"
    },
    {
     "data": {
      "text/html": [
       "2"
      ],
      "text/latex": [
       "2"
      ],
      "text/markdown": [
       "2"
      ],
      "text/plain": [
       "[1] 2"
      ]
     },
     "metadata": {},
     "output_type": "display_data"
    },
    {
     "data": {
      "text/html": [
       "TRUE"
      ],
      "text/latex": [
       "TRUE"
      ],
      "text/markdown": [
       "TRUE"
      ],
      "text/plain": [
       "[1] TRUE"
      ]
     },
     "metadata": {},
     "output_type": "display_data"
    },
    {
     "data": {
      "text/html": [
       "FALSE"
      ],
      "text/latex": [
       "FALSE"
      ],
      "text/markdown": [
       "FALSE"
      ],
      "text/plain": [
       "[1] FALSE"
      ]
     },
     "metadata": {},
     "output_type": "display_data"
    },
    {
     "data": {
      "text/html": [
       "FALSE"
      ],
      "text/latex": [
       "FALSE"
      ],
      "text/markdown": [
       "FALSE"
      ],
      "text/plain": [
       "[1] FALSE"
      ]
     },
     "metadata": {},
     "output_type": "display_data"
    },
    {
     "data": {
      "text/html": [
       "TRUE"
      ],
      "text/latex": [
       "TRUE"
      ],
      "text/markdown": [
       "TRUE"
      ],
      "text/plain": [
       "[1] TRUE"
      ]
     },
     "metadata": {},
     "output_type": "display_data"
    },
    {
     "data": {
      "text/html": [
       "FALSE"
      ],
      "text/latex": [
       "FALSE"
      ],
      "text/markdown": [
       "FALSE"
      ],
      "text/plain": [
       "[1] FALSE"
      ]
     },
     "metadata": {},
     "output_type": "display_data"
    },
    {
     "data": {
      "text/html": [
       "<ol class=list-inline>\n",
       "\t<li>5</li>\n",
       "\t<li>6</li>\n",
       "\t<li>7</li>\n",
       "\t<li>8</li>\n",
       "\t<li>9</li>\n",
       "\t<li>10</li>\n",
       "</ol>\n"
      ],
      "text/latex": [
       "\\begin{enumerate*}\n",
       "\\item 5\n",
       "\\item 6\n",
       "\\item 7\n",
       "\\item 8\n",
       "\\item 9\n",
       "\\item 10\n",
       "\\end{enumerate*}\n"
      ],
      "text/markdown": [
       "1. 5\n",
       "2. 6\n",
       "3. 7\n",
       "4. 8\n",
       "5. 9\n",
       "6. 10\n",
       "\n",
       "\n"
      ],
      "text/plain": [
       "[1]  5  6  7  8  9 10"
      ]
     },
     "metadata": {},
     "output_type": "display_data"
    }
   ],
   "source": [
    "2+3\n",
    "2-3\n",
    "2*3\n",
    "2/3\n",
    "2**3\n",
    "2^3\n",
    "5%%4 # modulus\n",
    "10%/%5 # integer division\n",
    "4<10\n",
    "2>5\n",
    "TRUE & FALSE\n",
    "TRUE | FALSE\n",
    "!TRUE\n",
    "5:10"
   ]
  },
  {
   "cell_type": "markdown",
   "metadata": {},
   "source": [
    "# Loops, Condition statements\n",
    "- for loop\n",
    "- while loop\n",
    "- repeat\n",
    "- if else\n",
    "- which"
   ]
  },
  {
   "cell_type": "markdown",
   "metadata": {},
   "source": [
    "## 1. for loop"
   ]
  },
  {
   "cell_type": "code",
   "execution_count": 66,
   "metadata": {},
   "outputs": [
    {
     "name": "stdout",
     "output_type": "stream",
     "text": [
      "[1] 1\n",
      "[1] 2\n",
      "[1] 3\n",
      "[1] 4\n",
      "[1] 5\n"
     ]
    }
   ],
   "source": [
    "for(i in 1:5){\n",
    "    print(i)\n",
    "}"
   ]
  },
  {
   "cell_type": "code",
   "execution_count": 67,
   "metadata": {},
   "outputs": [
    {
     "name": "stdout",
     "output_type": "stream",
     "text": [
      "[1] \"Mon\"\n",
      "[1] \"Tue\"\n",
      "[1] \"Wed\"\n",
      "[1] \"Thur\"\n",
      "[1] \"Fri\"\n",
      "[1] \"Sat\"\n",
      "[1] \"Sun\"\n"
     ]
    }
   ],
   "source": [
    "days <- c('Mon', 'Tue', 'Wed', 'Thur', 'Fri', 'Sat', 'Sun')\n",
    "for(d in days){\n",
    "    print(d)\n",
    "}"
   ]
  },
  {
   "cell_type": "markdown",
   "metadata": {},
   "source": [
    "## 2. while loop"
   ]
  },
  {
   "cell_type": "code",
   "execution_count": 68,
   "metadata": {},
   "outputs": [
    {
     "name": "stdout",
     "output_type": "stream",
     "text": [
      "[1] 0\n",
      "[1] 1\n",
      "[1] 2\n",
      "[1] 3\n",
      "[1] 4\n",
      "[1] 5\n",
      "[1] 6\n"
     ]
    }
   ],
   "source": [
    "i <- 0\n",
    "while(i<7){\n",
    "    print(i)\n",
    "    i=i+1\n",
    "}"
   ]
  },
  {
   "cell_type": "markdown",
   "metadata": {},
   "source": [
    "## 3. repeat"
   ]
  },
  {
   "cell_type": "code",
   "execution_count": 69,
   "metadata": {},
   "outputs": [
    {
     "name": "stdout",
     "output_type": "stream",
     "text": [
      "[1] 0\n",
      "[1] 1\n",
      "[1] 2\n",
      "[1] 3\n",
      "[1] 4\n",
      "[1] 5\n",
      "[1] 6\n",
      "[1] 7\n",
      "[1] 8\n",
      "[1] 9\n",
      "[1] 10\n"
     ]
    }
   ],
   "source": [
    "i<-0\n",
    "repeat{\n",
    "    print(i)\n",
    "    if(i==10){\n",
    "        break\n",
    "    }\n",
    "    i=i+1\n",
    "}"
   ]
  },
  {
   "cell_type": "markdown",
   "metadata": {},
   "source": [
    "## 4. if else"
   ]
  },
  {
   "cell_type": "code",
   "execution_count": 70,
   "metadata": {},
   "outputs": [
    {
     "name": "stdout",
     "output_type": "stream",
     "text": [
      "[1] \"else statement is executed\"\n"
     ]
    }
   ],
   "source": [
    "temp<-10\n",
    "if(temp==23){\n",
    "    print('if statement is executed')\n",
    "}else{\n",
    "    print('else statement is executed')\n",
    "}"
   ]
  },
  {
   "cell_type": "markdown",
   "metadata": {},
   "source": [
    "## 5. which"
   ]
  },
  {
   "cell_type": "code",
   "execution_count": 71,
   "metadata": {},
   "outputs": [
    {
     "data": {
      "text/html": [
       "4"
      ],
      "text/latex": [
       "4"
      ],
      "text/markdown": [
       "4"
      ],
      "text/plain": [
       "[1] 4"
      ]
     },
     "metadata": {},
     "output_type": "display_data"
    }
   ],
   "source": [
    "which(letters=='d')"
   ]
  },
  {
   "cell_type": "code",
   "execution_count": 72,
   "metadata": {},
   "outputs": [
    {
     "data": {
      "text/html": [
       "6"
      ],
      "text/latex": [
       "6"
      ],
      "text/markdown": [
       "6"
      ],
      "text/plain": [
       "[1] 6"
      ]
     },
     "metadata": {},
     "output_type": "display_data"
    },
    {
     "data": {
      "text/html": [
       "<ol class=list-inline>\n",
       "\t<li>2</li>\n",
       "\t<li>4</li>\n",
       "\t<li>7</li>\n",
       "</ol>\n"
      ],
      "text/latex": [
       "\\begin{enumerate*}\n",
       "\\item 2\n",
       "\\item 4\n",
       "\\item 7\n",
       "\\end{enumerate*}\n"
      ],
      "text/markdown": [
       "1. 2\n",
       "2. 4\n",
       "3. 7\n",
       "\n",
       "\n"
      ],
      "text/plain": [
       "[1] 2 4 7"
      ]
     },
     "metadata": {},
     "output_type": "display_data"
    }
   ],
   "source": [
    "temp<-c(91,92,97,84,85,39,20)\n",
    "which(temp == 39)\n",
    "which(temp%%2 == 0)"
   ]
  },
  {
   "cell_type": "markdown",
   "metadata": {},
   "source": [
    "# Some basic operations"
   ]
  },
  {
   "cell_type": "code",
   "execution_count": 74,
   "metadata": {},
   "outputs": [
    {
     "data": {
      "text/html": [
       "<ol class=list-inline>\n",
       "\t<li>15</li>\n",
       "\t<li>17</li>\n",
       "\t<li>19</li>\n",
       "</ol>\n"
      ],
      "text/latex": [
       "\\begin{enumerate*}\n",
       "\\item 15\n",
       "\\item 17\n",
       "\\item 19\n",
       "\\end{enumerate*}\n"
      ],
      "text/markdown": [
       "1. 15\n",
       "2. 17\n",
       "3. 19\n",
       "\n",
       "\n"
      ],
      "text/plain": [
       "[1] 15 17 19"
      ]
     },
     "metadata": {},
     "output_type": "display_data"
    },
    {
     "data": {
      "text/html": [
       "<ol class=list-inline>\n",
       "\t<li>5</li>\n",
       "\t<li>5</li>\n",
       "\t<li>5</li>\n",
       "</ol>\n"
      ],
      "text/latex": [
       "\\begin{enumerate*}\n",
       "\\item 5\n",
       "\\item 5\n",
       "\\item 5\n",
       "\\end{enumerate*}\n"
      ],
      "text/markdown": [
       "1. 5\n",
       "2. 5\n",
       "3. 5\n",
       "\n",
       "\n"
      ],
      "text/plain": [
       "[1] 5 5 5"
      ]
     },
     "metadata": {},
     "output_type": "display_data"
    },
    {
     "data": {
      "text/html": [
       "<ol class=list-inline>\n",
       "\t<li>50</li>\n",
       "\t<li>66</li>\n",
       "\t<li>84</li>\n",
       "</ol>\n"
      ],
      "text/latex": [
       "\\begin{enumerate*}\n",
       "\\item 50\n",
       "\\item 66\n",
       "\\item 84\n",
       "\\end{enumerate*}\n"
      ],
      "text/markdown": [
       "1. 50\n",
       "2. 66\n",
       "3. 84\n",
       "\n",
       "\n"
      ],
      "text/plain": [
       "[1] 50 66 84"
      ]
     },
     "metadata": {},
     "output_type": "display_data"
    },
    {
     "data": {
      "text/html": [
       "<ol class=list-inline>\n",
       "\t<li>2</li>\n",
       "\t<li>1.83333333333333</li>\n",
       "\t<li>1.71428571428571</li>\n",
       "</ol>\n"
      ],
      "text/latex": [
       "\\begin{enumerate*}\n",
       "\\item 2\n",
       "\\item 1.83333333333333\n",
       "\\item 1.71428571428571\n",
       "\\end{enumerate*}\n"
      ],
      "text/markdown": [
       "1. 2\n",
       "2. 1.83333333333333\n",
       "3. 1.71428571428571\n",
       "\n",
       "\n"
      ],
      "text/plain": [
       "[1] 2.000000 1.833333 1.714286"
      ]
     },
     "metadata": {},
     "output_type": "display_data"
    }
   ],
   "source": [
    "v1 <- c(10,11,12)\n",
    "v2 <- c(5,6,7)\n",
    "v1 + v2\n",
    "v1 - v2\n",
    "v1 * v2\n",
    "v1 / v2"
   ]
  },
  {
   "cell_type": "code",
   "execution_count": 84,
   "metadata": {},
   "outputs": [
    {
     "name": "stdout",
     "output_type": "stream",
     "text": [
      "[1] \"Slicing\"\n"
     ]
    },
    {
     "data": {
      "text/html": [
       "<ol class=list-inline>\n",
       "\t<li>13</li>\n",
       "\t<li>14</li>\n",
       "\t<li>11</li>\n",
       "\t<li>45</li>\n",
       "</ol>\n"
      ],
      "text/latex": [
       "\\begin{enumerate*}\n",
       "\\item 13\n",
       "\\item 14\n",
       "\\item 11\n",
       "\\item 45\n",
       "\\end{enumerate*}\n"
      ],
      "text/markdown": [
       "1. 13\n",
       "2. 14\n",
       "3. 11\n",
       "4. 45\n",
       "\n",
       "\n"
      ],
      "text/plain": [
       "[1] 13 14 11 45"
      ]
     },
     "metadata": {},
     "output_type": "display_data"
    },
    {
     "name": "stdout",
     "output_type": "stream",
     "text": [
      "[1] \"Retrieving values from specific indexes\"\n"
     ]
    },
    {
     "data": {
      "text/html": [
       "<ol class=list-inline>\n",
       "\t<li>14</li>\n",
       "\t<li>45</li>\n",
       "\t<li>56</li>\n",
       "</ol>\n"
      ],
      "text/latex": [
       "\\begin{enumerate*}\n",
       "\\item 14\n",
       "\\item 45\n",
       "\\item 56\n",
       "\\end{enumerate*}\n"
      ],
      "text/markdown": [
       "1. 14\n",
       "2. 45\n",
       "3. 56\n",
       "\n",
       "\n"
      ],
      "text/plain": [
       "[1] 14 45 56"
      ]
     },
     "metadata": {},
     "output_type": "display_data"
    },
    {
     "name": "stdout",
     "output_type": "stream",
     "text": [
      "[1] \"Update values\"\n"
     ]
    },
    {
     "data": {
      "text/html": [
       "<ol class=list-inline>\n",
       "\t<li>12</li>\n",
       "\t<li>13</li>\n",
       "\t<li>14</li>\n",
       "\t<li>11</li>\n",
       "\t<li>45</li>\n",
       "\t<li>76</li>\n",
       "\t<li>34</li>\n",
       "\t<li>99</li>\n",
       "\t<li>87</li>\n",
       "\t<li>56</li>\n",
       "\t<li>90</li>\n",
       "\t<li>34</li>\n",
       "\t<li>43</li>\n",
       "\t<li>62</li>\n",
       "\t<li>17</li>\n",
       "\t<li>8</li>\n",
       "\t<li>5</li>\n",
       "\t<li>84</li>\n",
       "</ol>\n"
      ],
      "text/latex": [
       "\\begin{enumerate*}\n",
       "\\item 12\n",
       "\\item 13\n",
       "\\item 14\n",
       "\\item 11\n",
       "\\item 45\n",
       "\\item 76\n",
       "\\item 34\n",
       "\\item 99\n",
       "\\item 87\n",
       "\\item 56\n",
       "\\item 90\n",
       "\\item 34\n",
       "\\item 43\n",
       "\\item 62\n",
       "\\item 17\n",
       "\\item 8\n",
       "\\item 5\n",
       "\\item 84\n",
       "\\end{enumerate*}\n"
      ],
      "text/markdown": [
       "1. 12\n",
       "2. 13\n",
       "3. 14\n",
       "4. 11\n",
       "5. 45\n",
       "6. 76\n",
       "7. 34\n",
       "8. 99\n",
       "9. 87\n",
       "10. 56\n",
       "11. 90\n",
       "12. 34\n",
       "13. 43\n",
       "14. 62\n",
       "15. 17\n",
       "16. 8\n",
       "17. 5\n",
       "18. 84\n",
       "\n",
       "\n"
      ],
      "text/plain": [
       " [1] 12 13 14 11 45 76 34 99 87 56 90 34 43 62 17  8  5 84"
      ]
     },
     "metadata": {},
     "output_type": "display_data"
    },
    {
     "data": {
      "text/html": [
       "<ol class=list-inline>\n",
       "\t<li>1000</li>\n",
       "\t<li>13</li>\n",
       "\t<li>14</li>\n",
       "\t<li>11</li>\n",
       "\t<li>45</li>\n",
       "\t<li>76</li>\n",
       "\t<li>34</li>\n",
       "\t<li>99</li>\n",
       "\t<li>87</li>\n",
       "\t<li>56</li>\n",
       "\t<li>90</li>\n",
       "\t<li>34</li>\n",
       "\t<li>43</li>\n",
       "\t<li>62</li>\n",
       "\t<li>17</li>\n",
       "\t<li>8</li>\n",
       "\t<li>5</li>\n",
       "\t<li>84</li>\n",
       "</ol>\n"
      ],
      "text/latex": [
       "\\begin{enumerate*}\n",
       "\\item 1000\n",
       "\\item 13\n",
       "\\item 14\n",
       "\\item 11\n",
       "\\item 45\n",
       "\\item 76\n",
       "\\item 34\n",
       "\\item 99\n",
       "\\item 87\n",
       "\\item 56\n",
       "\\item 90\n",
       "\\item 34\n",
       "\\item 43\n",
       "\\item 62\n",
       "\\item 17\n",
       "\\item 8\n",
       "\\item 5\n",
       "\\item 84\n",
       "\\end{enumerate*}\n"
      ],
      "text/markdown": [
       "1. 1000\n",
       "2. 13\n",
       "3. 14\n",
       "4. 11\n",
       "5. 45\n",
       "6. 76\n",
       "7. 34\n",
       "8. 99\n",
       "9. 87\n",
       "10. 56\n",
       "11. 90\n",
       "12. 34\n",
       "13. 43\n",
       "14. 62\n",
       "15. 17\n",
       "16. 8\n",
       "17. 5\n",
       "18. 84\n",
       "\n",
       "\n"
      ],
      "text/plain": [
       " [1] 1000   13   14   11   45   76   34   99   87   56   90   34   43   62   17\n",
       "[16]    8    5   84"
      ]
     },
     "metadata": {},
     "output_type": "display_data"
    }
   ],
   "source": [
    "vec <- c(12,13,14,11,45,76,34,99,87,56,90,34,43,62,17,8,5,84)\n",
    "\n",
    "print('Slicing')\n",
    "vec[2:5]\n",
    "\n",
    "print('Retrieving values from specific indexes')\n",
    "vec[c(3,5,10)]\n",
    "\n",
    "print('Update values')\n",
    "vec\n",
    "vec[1]=1000\n",
    "vec"
   ]
  },
  {
   "cell_type": "code",
   "execution_count": 82,
   "metadata": {},
   "outputs": [
    {
     "data": {
      "text/html": [
       "<dl class=dl-horizontal>\n",
       "\t<dt>Mon</dt>\n",
       "\t\t<dd>90000</dd>\n",
       "\t<dt>Tue</dt>\n",
       "\t\t<dd>80000</dd>\n",
       "\t<dt>Wed</dt>\n",
       "\t\t<dd>84000</dd>\n",
       "\t<dt>Thur</dt>\n",
       "\t\t<dd>69000</dd>\n",
       "\t<dt>Fri</dt>\n",
       "\t\t<dd>73000</dd>\n",
       "\t<dt>Sat</dt>\n",
       "\t\t<dd>85000</dd>\n",
       "\t<dt>Sun</dt>\n",
       "\t\t<dd>79000</dd>\n",
       "</dl>\n"
      ],
      "text/latex": [
       "\\begin{description*}\n",
       "\\item[Mon] 90000\n",
       "\\item[Tue] 80000\n",
       "\\item[Wed] 84000\n",
       "\\item[Thur] 69000\n",
       "\\item[Fri] 73000\n",
       "\\item[Sat] 85000\n",
       "\\item[Sun] 79000\n",
       "\\end{description*}\n"
      ],
      "text/markdown": [
       "Mon\n",
       ":   90000Tue\n",
       ":   80000Wed\n",
       ":   84000Thur\n",
       ":   69000Fri\n",
       ":   73000Sat\n",
       ":   85000Sun\n",
       ":   79000\n",
       "\n"
      ],
      "text/plain": [
       "  Mon   Tue   Wed  Thur   Fri   Sat   Sun \n",
       "90000 80000 84000 69000 73000 85000 79000 "
      ]
     },
     "metadata": {},
     "output_type": "display_data"
    },
    {
     "data": {
      "text/html": [
       "<dl class=dl-horizontal>\n",
       "\t<dt>Mon</dt>\n",
       "\t\t<dd>90000</dd>\n",
       "\t<dt>Thur</dt>\n",
       "\t\t<dd>69000</dd>\n",
       "</dl>\n"
      ],
      "text/latex": [
       "\\begin{description*}\n",
       "\\item[Mon] 90000\n",
       "\\item[Thur] 69000\n",
       "\\end{description*}\n"
      ],
      "text/markdown": [
       "Mon\n",
       ":   90000Thur\n",
       ":   69000\n",
       "\n"
      ],
      "text/plain": [
       "  Mon  Thur \n",
       "90000 69000 "
      ]
     },
     "metadata": {},
     "output_type": "display_data"
    }
   ],
   "source": [
    "sales <- c(90000, 80000, 84000, 69000, 73000, 85000, 79000)\n",
    "names(sales)<-c('Mon', 'Tue', 'Wed', 'Thur', 'Fri', 'Sat', 'Sun')\n",
    "sales\n",
    "\n",
    "sales[c('Mon', 'Thur')]"
   ]
  }
 ],
 "metadata": {
  "kernelspec": {
   "display_name": "R",
   "language": "R",
   "name": "ir"
  },
  "language_info": {
   "codemirror_mode": "r",
   "file_extension": ".r",
   "mimetype": "text/x-r-source",
   "name": "R",
   "pygments_lexer": "r",
   "version": "3.6.1"
  }
 },
 "nbformat": 4,
 "nbformat_minor": 4
}
